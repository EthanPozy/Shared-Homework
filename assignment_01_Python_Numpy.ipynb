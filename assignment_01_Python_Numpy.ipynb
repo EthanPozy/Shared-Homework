{
 "cells": [
  {
   "cell_type": "markdown",
   "id": "6bee8a35-8768-4e71-9ea4-b109e39fea71",
   "metadata": {
    "tags": []
   },
   "source": [
    "# Assignment 01 -- Python and Numpy basics\n",
    "## Points: 6\n",
    "## Rizwan Ahmad (ahmad.46@osu.edu)\n",
    "## BME5194 -- Spring 2022\n",
    "___"
   ]
  },
  {
   "cell_type": "markdown",
   "id": "b678903d-8df9-4899-841b-2627b9e38d98",
   "metadata": {},
   "source": [
    "## Complete this assignment by inserting code at locations highlighted by `???`\n",
    "___"
   ]
  },
  {
   "cell_type": "markdown",
   "id": "1a9e3e53-3d5b-418e-a96c-8589aec00b10",
   "metadata": {
    "tags": []
   },
   "source": [
    "### Import libraries and sub-libraries."
   ]
  },
  {
   "cell_type": "code",
   "execution_count": 26,
   "id": "e073d282-4500-4779-8a31-5450396fb5ba",
   "metadata": {
    "tags": []
   },
   "outputs": [],
   "source": [
    "import math # import math without renaming it\n",
    "import numpy as np # Import numpy library and as \"np\""
   ]
  },
  {
   "cell_type": "markdown",
   "id": "3a8e27c0-fd96-4a6a-81b8-73a84cd71390",
   "metadata": {
    "tags": []
   },
   "source": [
    "### Display integer and float values. (0.5 pt)"
   ]
  },
  {
   "cell_type": "code",
   "execution_count": 27,
   "id": "a83ceffc-36bc-4c42-aa49-829bd2cd2325",
   "metadata": {
    "tags": []
   },
   "outputs": [
    {
     "name": "stdout",
     "output_type": "stream",
     "text": [
      "The value of \"a\" with three digits after the decimal is 0.571 cm/s\n",
      "The value of \"a\" when rounded to the nearest integer is 0 cm/s\n",
      "Second element of c is BME\n"
     ]
    }
   ],
   "source": [
    "a = 4/7 # an irrational number, let's say velocity in the units of cm/s\n",
    "b = 'BME' # a string\n",
    "c = ['n', b, math.pi] # a list\n",
    "\n",
    "print('The value of \"a\" with three digits after the decimal is %1.3f' %a, 'cm/s')\n",
    "print('The value of \"a\" when rounded to the nearest integer is %d' %a , 'cm/s') # round down to the nearest integer\n",
    "print('Second element of c is', c[1])"
   ]
  },
  {
   "cell_type": "markdown",
   "id": "e19276e8-0546-4138-9e04-57916a682919",
   "metadata": {
    "tags": []
   },
   "source": [
    "### Use a 'for loop' to display all even numbers in array $vec$. (0.5 pt)"
   ]
  },
  {
   "cell_type": "code",
   "execution_count": 28,
   "id": "074e4ac9-f52f-46b5-87a0-ce84249e5683",
   "metadata": {
    "tags": []
   },
   "outputs": [
    {
     "name": "stdout",
     "output_type": "stream",
     "text": [
      "20\n",
      "4\n",
      "6\n",
      "10\n",
      "12\n"
     ]
    }
   ],
   "source": [
    "vec = [1, 20, 4, 5, 9, 3, 6, 10, 12]\n",
    "for a in vec: # goes through the elements of the list 'vec'\n",
    "    if(a % 2) == 0:\n",
    "        print(a) # indentation is important"
   ]
  },
  {
   "cell_type": "markdown",
   "id": "45cb64eb-721b-4016-ae3b-e310e2cbf60b",
   "metadata": {},
   "source": [
    "### Terminate the 'while loop' at the first instance of $vec[a] > 10$ (0.5 pt)"
   ]
  },
  {
   "cell_type": "code",
   "execution_count": 29,
   "id": "f89e8d46-4c01-4f44-854e-0c3cab8865ca",
   "metadata": {},
   "outputs": [
    {
     "name": "stdout",
     "output_type": "stream",
     "text": [
      "The first number greater than 10 is 19\n"
     ]
    }
   ],
   "source": [
    "vec = [1, 2, 4, 2, 5, 3, 7, 6, 9, 9, 10, 9, 19, 12, 13, 8, 12]\n",
    "a = 0\n",
    "while vec[a] <= 10: # goes through the elements of the list 'vec'\n",
    "    a = a + 1\n",
    "print('The first number greater than 10 is', vec[a])"
   ]
  },
  {
   "cell_type": "markdown",
   "id": "89b15a16-5edb-404a-a5cf-5998537a8cb9",
   "metadata": {},
   "source": [
    "### Define and call a function that rounds a number $n$ to the nearest integer greater than $n$; this is also called rounding up. Note, you may use math.ceil(.) to round up. (0.5 pt)"
   ]
  },
  {
   "cell_type": "code",
   "execution_count": 30,
   "id": "670115c0-208e-4cf6-8677-5f85d5a4d4a5",
   "metadata": {},
   "outputs": [
    {
     "name": "stdout",
     "output_type": "stream",
     "text": [
      "Rounding up 3.2 gives 4\n"
     ]
    }
   ],
   "source": [
    "def my_function(n):\n",
    "    m = int(math.ceil(n))\n",
    "    return m\n",
    "\n",
    "n = 3.2\n",
    "m = my_function(n)\n",
    "print('Rounding up', n, 'gives', m)"
   ]
  },
  {
   "cell_type": "markdown",
   "id": "4e0eebac-6935-4ea8-9150-0d5ba95a04f3",
   "metadata": {},
   "source": [
    "### Multiply a matrix $\\boldsymbol{X}$ and a column vector $\\boldsymbol{w}$. Note, this is not an elementwise multiplication. (0.5 pt)"
   ]
  },
  {
   "cell_type": "code",
   "execution_count": 31,
   "id": "5ad7726a-c3c4-4e47-9b48-e5892a80c128",
   "metadata": {},
   "outputs": [
    {
     "name": "stdout",
     "output_type": "stream",
     "text": [
      "size of X is (4, 3)\n",
      "Product of X and w is d [[8.]\n",
      " [9.]\n",
      " [5.]\n",
      " [9.]]\n"
     ]
    }
   ],
   "source": [
    "X = np.array([[1,2,5], [3,4,2], [2,3,0],[4,4,1]])\n",
    "w = np.ones((3,1))\n",
    "print('size of X is', X.shape)\n",
    "y = np.dot(X,w)\n",
    "print('Product of X and w is d', y)"
   ]
  },
  {
   "cell_type": "markdown",
   "id": "bdb353a3-db03-4681-8514-1084442c24e2",
   "metadata": {},
   "source": [
    "### For the matrix $\\boldsymbol{X}$ defined in the previous cell, calculate the inverse of this matrix $\\boldsymbol{X}^\\sf{T} \\boldsymbol{X}$. (0.5 pt)"
   ]
  },
  {
   "cell_type": "code",
   "execution_count": 32,
   "id": "aa480c86-87d0-45b5-95e0-6503389e6997",
   "metadata": {},
   "outputs": [
    {
     "name": "stdout",
     "output_type": "stream",
     "text": [
      "Inverse of the matrix is: [[ 1.17823129 -1.02040816  0.15918367]\n",
      " [-1.02040816  0.91836735 -0.16326531]\n",
      " [ 0.15918367 -0.16326531  0.07346939]]\n"
     ]
    }
   ],
   "source": [
    "Xt = X.T\n",
    "XtX = np.linalg.inv(np.dot(Xt, X))\n",
    "print('Inverse of the matrix is:', XtX)"
   ]
  },
  {
   "cell_type": "markdown",
   "id": "7060d35c-aa6a-4c97-be8b-e92b771d4dc6",
   "metadata": {},
   "source": [
    "### Find the Frobenius norm of the matrix $\\boldsymbol{X}^\\sf{T} \\boldsymbol{X}$ defined above. You can find the definition of the Frobenius norm [here](https://mathworld.wolfram.com/FrobeniusNorm.html). (1 pt)"
   ]
  },
  {
   "cell_type": "code",
   "execution_count": 34,
   "id": "e705913a-cca1-4396-a7e3-e9ce63090854",
   "metadata": {},
   "outputs": [
    {
     "name": "stdout",
     "output_type": "stream",
     "text": [
      "Frobenius norm: 2.103\n"
     ]
    }
   ],
   "source": [
    "XtX_fn = np.sqrt(np.sum(np.multiply(XtX, XtX)))\n",
    "print('Frobenius norm: %1.3f' %XtX_fn)"
   ]
  },
  {
   "cell_type": "markdown",
   "id": "51796290-f528-4754-a64e-4b6fcce3836a",
   "metadata": {},
   "source": [
    "### For the vector $\\boldsymbol{y}$ defined above, compute its $\\ell_1$ norm (represented as $\\|\\boldsymbol{y}\\|_1$) and $\\ell_2$ norm (represented as $\\|\\boldsymbol{y}\\|_2$) using 'for loop'. Note, $\\|\\boldsymbol{y}\\|_1 = \\sum_j |y_j|$ and $\\|\\boldsymbol{y}\\|_2 = \\sum_j (y_j)^2$. Here, $y_j$ is the $j^{\\text{th}}$ element of $\\boldsymbol{y}$. (1 pt)"
   ]
  },
  {
   "cell_type": "code",
   "execution_count": 35,
   "id": "8aa019e4-2354-4699-b13b-94b072ecb6ea",
   "metadata": {},
   "outputs": [
    {
     "name": "stdout",
     "output_type": "stream",
     "text": [
      "l_1 norm of y is 31.0\n",
      "l_2 norm of y is 251.0\n"
     ]
    }
   ],
   "source": [
    "y_l1 = 0\n",
    "y_l2 = 0\n",
    "for a in np.arange(y.size):\n",
    "    y_l1 = y_l1 + y[a]\n",
    "    y_l2 = y_l2 + y[a] ** 2\n",
    "print('l_1 norm of y is', y_l1.item()) # .item() converts a 1x1 numpy array to a python scalar\n",
    "print('l_2 norm of y is', y_l2.item())"
   ]
  },
  {
   "cell_type": "markdown",
   "id": "9acea775-e0b9-4858-93e5-5b4fe663ca59",
   "metadata": {},
   "source": [
    "### Solve the previous problem but this time without using the 'for loop'. (1 pt)"
   ]
  },
  {
   "cell_type": "code",
   "execution_count": 36,
   "id": "a176f06c-4119-47ab-bcee-132ac0861191",
   "metadata": {},
   "outputs": [
    {
     "name": "stdout",
     "output_type": "stream",
     "text": [
      "l_1 norm of y is 31.0\n",
      "l_2 norm of y is 251.0\n"
     ]
    }
   ],
   "source": [
    "y_l1 = np.sum(y)\n",
    "y_l2 = np.sum(np.power(y,2))\n",
    "print('l_1 norm of y is', y_l1.item()) # .item() converts a 1x1 numpy array to a python scalar\n",
    "print('l_2 norm of y is', y_l2.item())"
   ]
  }
 ],
 "metadata": {
  "kernelspec": {
   "display_name": "Python 3 (ipykernel)",
   "language": "python",
   "name": "python3"
  },
  "language_info": {
   "codemirror_mode": {
    "name": "ipython",
    "version": 3
   },
   "file_extension": ".py",
   "mimetype": "text/x-python",
   "name": "python",
   "nbconvert_exporter": "python",
   "pygments_lexer": "ipython3",
   "version": "3.9.7"
  }
 },
 "nbformat": 4,
 "nbformat_minor": 5
}
